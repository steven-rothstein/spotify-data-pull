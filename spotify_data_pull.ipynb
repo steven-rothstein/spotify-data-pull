{
 "cells": [
  {
   "cell_type": "code",
   "execution_count": null,
   "id": "005794ae",
   "metadata": {},
   "outputs": [],
   "source": [
    "%run 0_local_library_setup.ipynb"
   ]
  },
  {
   "cell_type": "code",
   "execution_count": null,
   "id": "f996a00d",
   "metadata": {},
   "outputs": [],
   "source": [
    "from selenium import webdriver\n",
    "from selenium.webdriver.chrome.service import Service\n",
    "from webdriver_manager.chrome import ChromeDriverManager\n",
    "\n",
    "import time"
   ]
  },
  {
   "cell_type": "code",
   "execution_count": null,
   "id": "de30c05f",
   "metadata": {},
   "outputs": [],
   "source": [
    "def spotify_get_all_results(access_token \\\n",
    "                            , endpoint \\\n",
    "                            , content_type \\\n",
    "                            , query = {} \\\n",
    "                            , max_parse_level = 0 \\\n",
    "                            , base_obj = None):\n",
    "    api_call_headers = {\n",
    "        'Authorization': 'Bearer ' + access_token,\n",
    "        'Content-Type': content_type\n",
    "    }\n",
    "\n",
    "    next_api_url = endpoint\n",
    "\n",
    "    first_call = True\n",
    "    retVal_list = list()\n",
    "\n",
    "    while next_api_url is not None:        \n",
    "        api_request = requests.get(next_api_url, headers = api_call_headers, params = query if first_call else {})\n",
    "        api_request.raise_for_status()\n",
    "\n",
    "        api_request_json = api_request.json()\n",
    "        \n",
    "        if base_obj is not None:\n",
    "            #Too simple for JMESPath...\n",
    "            api_request_json = api_request_json[base_obj]\n",
    "\n",
    "        if first_call:\n",
    "            num_pages = int(np.ceil(api_request_json['total'] / api_request_json['limit']))\n",
    "\n",
    "            desc_style = {'description_width': 'initial'}\n",
    "            api_request_loading_bar = widgets.IntProgress(value = 0 \\\n",
    "                                                            , min = 0 \\\n",
    "                                                            , max = num_pages \\\n",
    "                                                            , description = 'Loading:' \\\n",
    "                                                            , bar_style = 'success' \\\n",
    "                                                            , orientation='horizontal' \\\n",
    "                                                            , style = desc_style\\\n",
    "                                                           )\n",
    "\n",
    "            first_call = False\n",
    "\n",
    "            display(api_request_loading_bar)\n",
    "\n",
    "        next_api_url = api_request_json['next']\n",
    "\n",
    "        retVal_list.append(pd.json_normalize(api_request_json['items'], max_level = max_parse_level))\n",
    "\n",
    "        api_request_loading_bar.value += 1\n",
    "\n",
    "        if api_request_loading_bar.value < num_pages:\n",
    "            api_request_loading_bar.description = f'Loading Page: {api_request_loading_bar.value + 1} of {num_pages}'\n",
    "\n",
    "    api_request_loading_bar.layout.display = 'none'\n",
    "    \n",
    "    return pd.concat(retVal_list).reset_index(drop = True)"
   ]
  },
  {
   "cell_type": "code",
   "execution_count": null,
   "id": "b965c1a0",
   "metadata": {},
   "outputs": [],
   "source": [
    "driver = webdriver.Chrome(service = Service(ChromeDriverManager().install()))\n",
    "\n",
    "spotify_accounts_endpoint = 'https://accounts.spotify.com/'\n",
    "spotify_api_endpoint = 'https://api.spotify.com/v1/'\n",
    "\n",
    "with open('config/config.yml', 'r') as file:\n",
    "    config_contents = yaml.safe_load(file)\n",
    "    \n",
    "config_contents_creds = config_contents['creds']\n",
    "\n",
    "client_id = config_contents_creds['client_id']\n",
    "client_secret = config_contents_creds['client_secret']\n",
    "\n",
    "redirect_uri = config_contents['redirect_uri']\n",
    "\n",
    "oath_token_url = f'{spotify_accounts_endpoint}authorize?client_id={client_id}&response_type=code&redirect_uri={redirect_uri}&scope=user-read-private user-read-email playlist-read-private user-follow-read user-top-read user-read-recently-played user-library-read'\n",
    "\n",
    "driver.get(oath_token_url)\n",
    "\n",
    "username_input = driver.find_element('id', 'login-username')\n",
    "username_input.send_keys(config_contents_creds['username'])\n",
    "\n",
    "password_input = driver.find_element('id', 'login-password')\n",
    "password_input.send_keys(config_contents_creds['password'])\n",
    "\n",
    "login_button = driver.find_element('id', 'login-button')\n",
    "login_button.click()\n",
    "\n",
    "if (driver.current_url.startswith(f'{spotify_accounts_endpoint}en/authorize?')):\n",
    "    agree_button = driver.find_element('xpath', '//button[@data-testid=\"auth-accept\"]')\n",
    "    agree_button.click()\n",
    "    \n",
    "time.sleep(2)\n",
    "    \n",
    "oauth_initial_token = driver.current_url.replace(f'{redirect_uri}/?code=', '')\n",
    "\n",
    "driver.close()\n",
    "driver.quit()"
   ]
  },
  {
   "cell_type": "code",
   "execution_count": null,
   "id": "5007ab8a",
   "metadata": {},
   "outputs": [],
   "source": [
    "base64_encoding = 'ascii'\n",
    "content_type_dictionary = {'Content-Type': 'application/x-www-form-urlencoded'}\n",
    "\n",
    "get_bearer_token_headers = {\n",
    "  'Authorization': 'Basic ' + \\\n",
    "                    base64.b64encode(f'{client_id}:{client_secret}'.encode(base64_encoding)).decode(base64_encoding)\n",
    "} | content_type_dictionary\n",
    "\n",
    "get_bearer_token_payload = {\n",
    "    'grant_type': 'authorization_code',\n",
    "    'code': oauth_initial_token,\n",
    "    'redirect_uri': redirect_uri\n",
    "}\n",
    "\n",
    "get_bearer_token_response = requests.post(f'{spotify_accounts_endpoint}api/token' \\\n",
    "                                          , headers = get_bearer_token_headers \\\n",
    "                                          , data = get_bearer_token_payload)\n",
    "get_bearer_token_response.raise_for_status()\n",
    "\n",
    "get_bearer_token_response_json = get_bearer_token_response.json()\n",
    "access_token = get_bearer_token_response_json['access_token']"
   ]
  },
  {
   "cell_type": "code",
   "execution_count": null,
   "id": "b48263ff",
   "metadata": {},
   "outputs": [],
   "source": [
    "track_str = 'track'\n",
    "track_id_str = f'{track_str}_id'\n",
    "\n",
    "my_tracks = spotify_get_all_results(access_token \\\n",
    "                                    , f'{spotify_api_endpoint}me/tracks' \\\n",
    "                                    , 'application/x-www-form-urlencoded' \\\n",
    "                                    , max_parse_level = 1)\n",
    "\n",
    "my_tracks.columns = my_tracks.columns.str.replace(f'{track_str}.', '', regex = False)\n",
    "my_tracks.rename(columns = {'id': track_id_str}, inplace = True)\n",
    "\n",
    "display(my_tracks.head())\n",
    "print(my_tracks.shape)"
   ]
  },
  {
   "cell_type": "code",
   "execution_count": null,
   "id": "1e9a1c68",
   "metadata": {},
   "outputs": [],
   "source": [
    "artists_str = 'artists'\n",
    "\n",
    "track_artists_df = convert_json_col_to_dataframe_with_key(my_tracks, track_id_str, artists_str)\n",
    "\n",
    "display(track_artists_df.head())\n",
    "print(track_artists_df.shape)"
   ]
  },
  {
   "cell_type": "code",
   "execution_count": null,
   "id": "1dc1843c",
   "metadata": {},
   "outputs": [],
   "source": [
    "id_str = 'id'\n",
    "name_str = 'name'\n",
    "count_track_id_str = f'count_{track_id_str}'\n",
    "\n",
    "num_tracks_per_artist = track_artists_df.groupby([id_str, name_str])[track_id_str].count() \\\n",
    "                                        .to_frame().sort_values(track_id_str, ascending = False) \\\n",
    "                                        .reset_index().rename(columns = {track_id_str: count_track_id_str})\n",
    "\n",
    "num_tracks_per_artist.head(10).plot(kind = 'bar', x = name_str, y = count_track_id_str, rot = 45)\n",
    "\n",
    "plt.show()\n",
    "plt.clf()"
   ]
  },
  {
   "cell_type": "code",
   "execution_count": null,
   "id": "aaf9ea55",
   "metadata": {
    "scrolled": false
   },
   "outputs": [],
   "source": [
    "display(num_tracks_per_artist[num_tracks_per_artist[count_track_id_str] >= 2][[name_str, count_track_id_str]])"
   ]
  },
  {
   "cell_type": "code",
   "execution_count": null,
   "id": "efe495ca",
   "metadata": {},
   "outputs": [],
   "source": [
    "display(num_tracks_per_artist[num_tracks_per_artist[count_track_id_str] == 1][[name_str, count_track_id_str]])"
   ]
  },
  {
   "cell_type": "code",
   "execution_count": null,
   "id": "63919d10",
   "metadata": {},
   "outputs": [],
   "source": [
    "my_long_term_top_tracks = spotify_get_all_results(access_token \\\n",
    "                                                 , f'{spotify_api_endpoint}me/top/tracks' \\\n",
    "                                                 , 'application/json' \\\n",
    "                                                 , query = {'time_range': 'long_term'})\n",
    "\n",
    "display(my_long_term_top_tracks)"
   ]
  },
  {
   "cell_type": "code",
   "execution_count": null,
   "id": "a158358e",
   "metadata": {},
   "outputs": [],
   "source": [
    "#TODO top songs by artist"
   ]
  },
  {
   "cell_type": "code",
   "execution_count": null,
   "id": "b2f7bf24",
   "metadata": {},
   "outputs": [],
   "source": [
    "my_followed_artists = spotify_get_all_results(access_token \\\n",
    "                                              , f'{spotify_api_endpoint}me/following' \\\n",
    "                                              , 'application/json' \\\n",
    "                                              , query = {'type': 'artist'} \\\n",
    "                                              , base_obj = 'artists')\n",
    "\n",
    "display(my_followed_artists)"
   ]
  },
  {
   "cell_type": "code",
   "execution_count": null,
   "id": "c8b943e1",
   "metadata": {},
   "outputs": [],
   "source": [
    "my_track_artists = num_tracks_per_artist[[id_str, name_str, count_track_id_str]]\n",
    "\n",
    "display(my_track_artists)"
   ]
  },
  {
   "cell_type": "code",
   "execution_count": null,
   "id": "18a8a97d",
   "metadata": {},
   "outputs": [],
   "source": [
    "my_left = my_track_artists\n",
    "my_right = my_followed_artists\n",
    "\n",
    "my_followed_and_liked_artists_df = pd.merge(my_left \\\n",
    "                                            , my_right \\\n",
    "                                            , on = id_str \\\n",
    "                                            , how = 'inner' \\\n",
    "                                            , suffixes = ('', '_y'))[my_left.columns]\n",
    "\n",
    "display(my_followed_and_liked_artists_df)\n",
    "print(my_followed_and_liked_artists_df.shape)"
   ]
  },
  {
   "cell_type": "code",
   "execution_count": null,
   "id": "5b944155",
   "metadata": {},
   "outputs": [],
   "source": [
    "my_track_artists_ids = set(my_left[id_str])\n",
    "my_followed_artists_ids = set(my_right[id_str])\n",
    "my_followed_and_liked_artists_ids = set(my_followed_and_liked_artists_df[id_str])\n",
    "\n",
    "my_unfollowed_track_artists_ids = my_track_artists_ids - my_followed_and_liked_artists_ids\n",
    "my_followed_and_nonliked_artists_ids = my_followed_artists_ids - my_followed_and_liked_artists_ids\n",
    "\n",
    "#TODO handle when my_followed_and_nonliked_artists_ids is non-empty\n",
    "\n",
    "my_unfollowed_track_artists_df = my_left[my_left[id_str].isin(my_unfollowed_track_artists_ids)]\n",
    "\n",
    "my_top_unfollowed_artists_indices = my_unfollowed_track_artists_df[count_track_id_str] > 2\n",
    "\n",
    "my_top_unfollowed_artists_df = my_unfollowed_track_artists_df[my_top_unfollowed_artists_indices] \\\n",
    "                                    .reset_index(drop = True)\n",
    "\n",
    "display(my_top_unfollowed_artists_df)\n",
    "print(my_top_unfollowed_artists_df.shape)"
   ]
  },
  {
   "cell_type": "code",
   "execution_count": null,
   "id": "2c525bce",
   "metadata": {},
   "outputs": [],
   "source": []
  }
 ],
 "metadata": {
  "kernelspec": {
   "display_name": "Python 3 (ipykernel)",
   "language": "python",
   "name": "python3"
  },
  "language_info": {
   "codemirror_mode": {
    "name": "ipython",
    "version": 3
   },
   "file_extension": ".py",
   "mimetype": "text/x-python",
   "name": "python",
   "nbconvert_exporter": "python",
   "pygments_lexer": "ipython3",
   "version": "3.10.6"
  }
 },
 "nbformat": 4,
 "nbformat_minor": 5
}
