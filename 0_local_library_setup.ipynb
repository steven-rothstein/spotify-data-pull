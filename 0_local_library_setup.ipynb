{
 "cells": [
  {
   "cell_type": "code",
   "execution_count": null,
   "id": "56776443",
   "metadata": {},
   "outputs": [],
   "source": [
    "import json\n",
    "import requests\n",
    "import jmespath\n",
    "import base64\n",
    "import yaml\n",
    "\n",
    "import ipywidgets as widgets\n",
    "import numpy as np\n",
    "import matplotlib.pyplot as plt\n",
    "import pandas as pd\n",
    "\n",
    "from sqlalchemy import create_engine\n",
    "\n",
    "pd.set_option('display.max_columns', None)\n",
    "pd.set_option('display.max_rows', 600)"
   ]
  },
  {
   "cell_type": "code",
   "execution_count": null,
   "id": "5b4c794e",
   "metadata": {},
   "outputs": [],
   "source": [
    "def assign_id_and_parse(pd_series, id_names, json_col_to_parse):\n",
    "    # Convert to a list if not one already\n",
    "    id_names = id_names if isinstance(id_names, list) else [id_names]\n",
    "    \n",
    "    # Convert the nested lists of dictionaries to a DataFrame\n",
    "    retVal = pd.DataFrame(pd_series[json_col_to_parse])\n",
    "    \n",
    "    # Insert the current ID as the first column, going backwards through the list.\n",
    "    for curr_id_name in id_names[::-1]:\n",
    "        retVal.insert(0, curr_id_name, pd_series[curr_id_name])\n",
    "    \n",
    "    return retVal\n",
    "\n",
    "def convert_json_col_to_dataframe_with_key(df, id_col_names, json_col_name):\n",
    "    retVal_list = list()\n",
    "    \n",
    "    for i, df_row in df.iterrows():\n",
    "        retVal_list.append(assign_id_and_parse(df_row, id_col_names, json_col_name))\n",
    "    \n",
    "    return pd.concat(retVal_list).reset_index(drop = True)"
   ]
  },
  {
   "cell_type": "code",
   "execution_count": null,
   "id": "f32195f7",
   "metadata": {},
   "outputs": [],
   "source": []
  }
 ],
 "metadata": {
  "kernelspec": {
   "display_name": "Python 3 (ipykernel)",
   "language": "python",
   "name": "python3"
  },
  "language_info": {
   "codemirror_mode": {
    "name": "ipython",
    "version": 3
   },
   "file_extension": ".py",
   "mimetype": "text/x-python",
   "name": "python",
   "nbconvert_exporter": "python",
   "pygments_lexer": "ipython3",
   "version": "3.10.6"
  }
 },
 "nbformat": 4,
 "nbformat_minor": 5
}
